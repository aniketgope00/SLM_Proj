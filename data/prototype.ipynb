{
 "cells": [
  {
   "cell_type": "code",
   "execution_count": 3,
   "metadata": {},
   "outputs": [
    {
     "data": {
      "text/html": [
       "<div>\n",
       "<style scoped>\n",
       "    .dataframe tbody tr th:only-of-type {\n",
       "        vertical-align: middle;\n",
       "    }\n",
       "\n",
       "    .dataframe tbody tr th {\n",
       "        vertical-align: top;\n",
       "    }\n",
       "\n",
       "    .dataframe thead th {\n",
       "        text-align: right;\n",
       "    }\n",
       "</style>\n",
       "<table border=\"1\" class=\"dataframe\">\n",
       "  <thead>\n",
       "    <tr style=\"text-align: right;\">\n",
       "      <th></th>\n",
       "      <th>Website (Geeksforgeeks).        Topics</th>\n",
       "      <th>Link</th>\n",
       "    </tr>\n",
       "  </thead>\n",
       "  <tbody>\n",
       "    <tr>\n",
       "      <th>0</th>\n",
       "      <td>Machine Learning Tutorial</td>\n",
       "      <td>https://www.geeksforgeeks.org/machine-learning...</td>\n",
       "    </tr>\n",
       "    <tr>\n",
       "      <th>1</th>\n",
       "      <td>Python for Machine Learning</td>\n",
       "      <td>https://www.geeksforgeeks.org/python-for-machi...</td>\n",
       "    </tr>\n",
       "    <tr>\n",
       "      <th>2</th>\n",
       "      <td>SQL for Machine Learning</td>\n",
       "      <td>https://www.geeksforgeeks.org/sql-for-machine-...</td>\n",
       "    </tr>\n",
       "    <tr>\n",
       "      <th>3</th>\n",
       "      <td>Advantages and Disadvantages of Machine Learning</td>\n",
       "      <td>https://www.geeksforgeeks.org/what-is-machine-...</td>\n",
       "    </tr>\n",
       "    <tr>\n",
       "      <th>4</th>\n",
       "      <td>Why ML is Important ?</td>\n",
       "      <td>https://www.geeksforgeeks.org/why-ml-is-import...</td>\n",
       "    </tr>\n",
       "  </tbody>\n",
       "</table>\n",
       "</div>"
      ],
      "text/plain": [
       "             Website (Geeksforgeeks).        Topics  \\\n",
       "0                         Machine Learning Tutorial   \n",
       "1                       Python for Machine Learning   \n",
       "2                          SQL for Machine Learning   \n",
       "3  Advantages and Disadvantages of Machine Learning   \n",
       "4                             Why ML is Important ?   \n",
       "\n",
       "                                                Link  \n",
       "0  https://www.geeksforgeeks.org/machine-learning...  \n",
       "1  https://www.geeksforgeeks.org/python-for-machi...  \n",
       "2  https://www.geeksforgeeks.org/sql-for-machine-...  \n",
       "3  https://www.geeksforgeeks.org/what-is-machine-...  \n",
       "4  https://www.geeksforgeeks.org/why-ml-is-import...  "
      ]
     },
     "execution_count": 3,
     "metadata": {},
     "output_type": "execute_result"
    }
   ],
   "source": [
    "import pandas as pd\n",
    "links_df = pd.read_csv(\"NLP_Project - Sheet2.csv\")\n",
    "links_df.head()"
   ]
  },
  {
   "cell_type": "code",
   "execution_count": 4,
   "metadata": {},
   "outputs": [
    {
     "name": "stdout",
     "output_type": "stream",
     "text": [
      "Number of rows: 151\n"
     ]
    }
   ],
   "source": [
    "n = links_df.shape[0]\n",
    "print(f\"Number of rows: {n}\")"
   ]
  },
  {
   "cell_type": "code",
   "execution_count": 6,
   "metadata": {},
   "outputs": [
    {
     "data": {
      "text/html": [
       "<div>\n",
       "<style scoped>\n",
       "    .dataframe tbody tr th:only-of-type {\n",
       "        vertical-align: middle;\n",
       "    }\n",
       "\n",
       "    .dataframe tbody tr th {\n",
       "        vertical-align: top;\n",
       "    }\n",
       "\n",
       "    .dataframe thead th {\n",
       "        text-align: right;\n",
       "    }\n",
       "</style>\n",
       "<table border=\"1\" class=\"dataframe\">\n",
       "  <thead>\n",
       "    <tr style=\"text-align: right;\">\n",
       "      <th></th>\n",
       "      <th>Website (Geeksforgeeks).        Topics</th>\n",
       "      <th>Link</th>\n",
       "    </tr>\n",
       "  </thead>\n",
       "  <tbody>\n",
       "    <tr>\n",
       "      <th>14</th>\n",
       "      <td>ML | Understanding Data Processing</td>\n",
       "      <td>https://www.geeksforgeeks.org/ml-understanding...</td>\n",
       "    </tr>\n",
       "    <tr>\n",
       "      <th>98</th>\n",
       "      <td>Artificial Neural Networks and its Applications</td>\n",
       "      <td>https://www.geeksforgeeks.org/artificial-neura...</td>\n",
       "    </tr>\n",
       "    <tr>\n",
       "      <th>75</th>\n",
       "      <td>CatBoost in Machine Learning</td>\n",
       "      <td>https://www.geeksforgeeks.org/catboost-ml/</td>\n",
       "    </tr>\n",
       "  </tbody>\n",
       "</table>\n",
       "</div>"
      ],
      "text/plain": [
       "             Website (Geeksforgeeks).        Topics  \\\n",
       "14               ML | Understanding Data Processing   \n",
       "98  Artificial Neural Networks and its Applications   \n",
       "75                     CatBoost in Machine Learning   \n",
       "\n",
       "                                                 Link  \n",
       "14  https://www.geeksforgeeks.org/ml-understanding...  \n",
       "98  https://www.geeksforgeeks.org/artificial-neura...  \n",
       "75         https://www.geeksforgeeks.org/catboost-ml/  "
      ]
     },
     "execution_count": 6,
     "metadata": {},
     "output_type": "execute_result"
    }
   ],
   "source": [
    "small_df = links_df.sample(n=3, random_state=1)\n",
    "small_df.head()"
   ]
  },
  {
   "cell_type": "code",
   "execution_count": 16,
   "metadata": {},
   "outputs": [
    {
     "data": {
      "text/plain": [
       "'https://www.geeksforgeeks.org/ml-understanding-data-processing/?ref=lbp'"
      ]
     },
     "execution_count": 16,
     "metadata": {},
     "output_type": "execute_result"
    }
   ],
   "source": [
    "#get url\n",
    "small_df.iloc[0, 1]"
   ]
  },
  {
   "cell_type": "code",
   "execution_count": 19,
   "metadata": {},
   "outputs": [],
   "source": [
    "import os\n",
    "from firecrawl import FirecrawlApp\n",
    "from dotenv import load_dotenv\n",
    "load_dotenv()\n",
    "FIRECRAWL_API_KEY = os.getenv(\"FIRECRAWL_API_KEY\")\n",
    "app = FirecrawlApp(api_key=FIRECRAWL_API_KEY)\n",
    "\n",
    "def scrape_link(app, url : str)->str:\n",
    "    \"\"\"\n",
    "    Scrape the given URL using Firecrawl API.\n",
    "    \"\"\"\n",
    "    scrape_status = app.scrape_url(url, params={'format': ['markdown']})\n",
    "    if scrape_status[\"metadata\"][\"statusCode\"] == 200:\n",
    "        print(f\"Successfully scraped {url}\")\n",
    "        content = scrape_status[\"markdown\"]\n",
    "        return content\n",
    "    else:\n",
    "        print(f\"Error scraping {url}: {scrape_status['metadata']['statusCode']}\")\n",
    "        return None    "
   ]
  },
  {
   "cell_type": "code",
   "execution_count": 24,
   "metadata": {},
   "outputs": [],
   "source": [
    "def store_scraped_data(content : str, idx: int)->None:\n",
    "    \"\"\"\n",
    "    Store the scraped data in a .md file.\n",
    "    \"\"\"\n",
    "    os.makedirs(\"scrapped_url_md\", exist_ok=True)\n",
    "    filename = f\"scrapped_url_md/file{idx}.md\"\n",
    "    #create file with the given filename\n",
    "    with open(filename, \"w\", encoding=\"utf-8\") as f:\n",
    "        f.write(content)\n",
    "        print(f\"Stored scraped data in {filename}\")"
   ]
  },
  {
   "cell_type": "code",
   "execution_count": 25,
   "metadata": {},
   "outputs": [
    {
     "name": "stdout",
     "output_type": "stream",
     "text": [
      "Successfully scraped https://www.geeksforgeeks.org/ml-understanding-data-processing/?ref=lbp\n",
      "Stored scraped data in scrapped_url_md/file0.md\n",
      "Successfully scraped https://www.geeksforgeeks.org/artificial-neural-networks-and-its-applications/\n",
      "Stored scraped data in scrapped_url_md/file1.md\n",
      "Successfully scraped https://www.geeksforgeeks.org/catboost-ml/\n",
      "Stored scraped data in scrapped_url_md/file2.md\n"
     ]
    }
   ],
   "source": [
    "from firecrawl import FirecrawlApp\n",
    "\n",
    "app = FirecrawlApp(api_key=\"fc-2a316f74c5d84fb9927b864137f6ac8e\")\n",
    "\n",
    "# Scrape a website:\n",
    "for i in range(3):\n",
    "    url = links_df.iloc[i, 1]\n",
    "    scrape_status = app.scrape_url(url, params={'formats': ['markdown']})\n",
    "    if scrape_status[\"metadata\"][\"statusCode\"] == 200:\n",
    "        print(f\"Successfully scraped {url}\")\n",
    "        content = scrape_status[\"markdown\"]\n",
    "        store_scraped_data(content, i)\n",
    "    else:\n",
    "        print(f\"Error scraping {url}: {scrape_status['metadata']['statusCode']}\")    \n",
    "\n"
   ]
  },
  {
   "cell_type": "code",
   "execution_count": 12,
   "metadata": {},
   "outputs": [
    {
     "data": {
      "text/plain": [
       "200"
      ]
     },
     "execution_count": 12,
     "metadata": {},
     "output_type": "execute_result"
    }
   ],
   "source": []
  },
  {
   "cell_type": "code",
   "execution_count": null,
   "metadata": {},
   "outputs": [],
   "source": []
  }
 ],
 "metadata": {
  "kernelspec": {
   "display_name": "Python 3",
   "language": "python",
   "name": "python3"
  },
  "language_info": {
   "codemirror_mode": {
    "name": "ipython",
    "version": 3
   },
   "file_extension": ".py",
   "mimetype": "text/x-python",
   "name": "python",
   "nbconvert_exporter": "python",
   "pygments_lexer": "ipython3",
   "version": "3.10.16"
  }
 },
 "nbformat": 4,
 "nbformat_minor": 2
}
